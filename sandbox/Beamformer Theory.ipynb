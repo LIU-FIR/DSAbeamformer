{
 "cells": [
  {
   "cell_type": "code",
   "execution_count": 4,
   "metadata": {
    "collapsed": false
   },
   "outputs": [],
   "source": [
    "# %matplotlib inline\n",
    "# import mpld3\n",
    "# mpld3.enable_notebook()\n",
    "\n",
    "'''\n",
    "Import Libraries\n",
    "'''\n",
    "\n",
    "import sys\n",
    "import os\n",
    "import numpy as np\n",
    "sys.path.append(os.chdir(os.path.dirname(os.path.abspath(\".\")) + \"/bin\"))\n",
    "\n",
    "# matplotlib.use('nbagg')\n",
    "import matplotlib.pyplot as plt"
   ]
  },
  {
   "cell_type": "code",
   "execution_count": 5,
   "metadata": {
    "collapsed": false
   },
   "outputs": [],
   "source": [
    "'''\n",
    "Create array containing positions of antennas\n",
    "\n",
    "Antennas can be distributed linearly, randomly, or a mix of both\n",
    "'''\n",
    "N = 64\n",
    "max_pos = 250\n",
    "Antenna_positions = 'Linear'\n",
    "\n",
    "if Antenna_positions == 'Linear':\n",
    "    pos = np.linspace(-max_pos,max_pos,N)\n",
    "elif Antenna_positions == 'Random':\n",
    "    pos = 2*max_pos*np.random.uniform(size=N)\n",
    "elif Antenna_positions == 'Linear with Random':\n",
    "    pos = np.linspace(-max_pos,max_pos,N)\n",
    "    pos[0] = np.random.uniform(-max_pos,max_pos)\n",
    "    pos[1] = np.random.uniform(-max_pos,max_pos)\n",
    "    pos[2] = np.random.uniform(-max_pos,max_pos)\n",
    "    \n",
    "plt.scatter(pos, np.ones(64))\n",
    "plt.show()"
   ]
  },
  {
   "cell_type": "code",
   "execution_count": 6,
   "metadata": {
    "collapsed": false
   },
   "outputs": [],
   "source": [
    "'''\n",
    "Create Fourier coefficient matrix\n",
    "'''\n",
    "\n",
    "c = 299792458.0\n",
    "zero_pt = 0              # Can be used if the first few channels have been flagged\n",
    "gpu = 0                  # Determines the bandwidth in any gpu\n",
    "tot_channels = 2048\n",
    "n_gpus = 8               # Number of GPUs in system\n",
    "bw_per_channel = (1.53 - 1.28)/tot_channels\n",
    "N_BEAMS = 256\n",
    "N_FREQ = tot_channels / n_gpus\n",
    "\n",
    "\n",
    "field_of_view_half_angle = 3.5\n",
    "theta = np.linspace(-field_of_view_half_angle*np.pi/180.0, field_of_view_half_angle*np.pi/180.0, N_BEAMS) #beam angles\n",
    "\n",
    "freq = [1.53 - (zero_pt + gpu * tot_channels/(n_gpus-1) + i)* bw_per_channel for i in range(N_FREQ)]\n",
    "\n",
    "form_beams_with_freq = range(256)\n",
    "A = np.zeros((len(form_beams_with_freq), N_BEAMS, N), dtype=np.complex64) # Allocate space\n",
    "\n",
    "'''\n",
    "Calculate the fourier coefficients\n",
    "\n",
    "Note we use np.round so that each number is ~ an 8-bit integer\n",
    "'''\n",
    "for k, f in enumerate(form_beams_with_freq):\n",
    "    wavelength = c/(freq[f]*1e9)\n",
    "    for i in range(N_BEAMS):\n",
    "        for j in range(N):\n",
    "            A[k, i,j] = np.round(127.0*np.exp(-2.0j*np.pi*pos[j]*np.sin(theta[i])/wavelength))/127.0"
   ]
  },
  {
   "cell_type": "code",
   "execution_count": 49,
   "metadata": {
    "collapsed": false
   },
   "outputs": [
    {
     "name": "stdout",
     "output_type": "stream",
     "text": [
      "Loading from Memory: python_data_navg_1\n"
     ]
    }
   ],
   "source": [
    "'''\n",
    "Create the test signals\n",
    "'''\n",
    "eval_pts = 1024 #number of test signals\n",
    "N_AVERAGING = 1\n",
    "file_name = \"python_data_navg_%d\"% N_AVERAGING\n",
    "\n",
    "try:\n",
    "    out = np.load(file_name + \".npy\")\n",
    "    print \"Loading from Memory: \" + file_name\n",
    "except:\n",
    "    angles = np.linspace(-field_of_view_half_angle*np.pi/180.0, field_of_view_half_angle*np.pi/180.0, eval_pts)\n",
    "    out = np.zeros((N_BEAMS, eval_pts))\n",
    "\n",
    "    '''\n",
    "    Note we use np.round so that each number is ~ an 4-bit integer\n",
    "\n",
    "    This loop can take a while to calculate\n",
    "    '''\n",
    "    for k, f in enumerate(form_beams_with_freq):\n",
    "        if (k%20 == 0): print(k)\n",
    "        wavelength = c/(freq[f]*1e9)\n",
    "        for jj in range(len(angles)):\n",
    "            signal = [np.round(7*np.exp(2*np.pi*1j*pos[i]*np.sin(angles[jj])/wavelength)) for i in range(N)]\n",
    "            out[:,jj] += 2*N_AVERAGING*np.real(np.dot(A[k,:,:], signal))**2\n",
    "    np.save(file_name, out)\n",
    "    print \"Saving to Memory: \" + file_name"
   ]
  },
  {
   "cell_type": "code",
   "execution_count": null,
   "metadata": {
    "collapsed": false,
    "scrolled": true
   },
   "outputs": [],
   "source": [
    "# mpld3.disable_notebook()\n",
    "# %matplotlib tk\n",
    "\n",
    "'''\n",
    "Plot beams patterns over top of eachother\n",
    "\n",
    "Change \"eval_pts\" if more resolution is desired\n",
    "'''\n",
    "\n",
    "fig = plt.figure(figsize=(10,4))\n",
    "fig.suptitle(Antenna_positions + \" Locations\")\n",
    "ax = plt.subplot(121,projection='polar')\n",
    "ax2 = plt.subplot(122)\n",
    "\n",
    "for jj in range(256):\n",
    "    ax.plot(angles, np.real(out[jj]))\n",
    "    ax2.plot(angles*180/np.pi, np.real(out[jj]))\n",
    "    \n",
    "ax2.axis([-3.6, -3.4, -100, 2.0*max(out[0])])\n",
    "ax2.set_xlabel(\"Angle [deg]\")\n",
    "ax2.set_ylabel(\"Response Amplitude\")\n",
    "\n",
    "plt.show()\n",
    "# mpld3.enable_notebook()"
   ]
  },
  {
   "cell_type": "code",
   "execution_count": null,
   "metadata": {
    "collapsed": true
   },
   "outputs": [],
   "source": [
    "'''\n",
    "Plot Fourier coefficient matricies for 4 frequencies\n",
    "'''\n",
    "\n",
    "fig = plt.figure(figsize= (8,4))\n",
    "tr = 141\n",
    "for k in range(4):\n",
    "    ax = plt.subplot(tr)\n",
    "    tr+=1\n",
    "    ax.imshow(np.real(A[k]))\n",
    "    ax.set_title(\"Freq = {0:.4g}\".format(freq[form_beams_with_freq[k]]))\n",
    "plt.show()"
   ]
  },
  {
   "cell_type": "code",
   "execution_count": 39,
   "metadata": {
    "collapsed": true
   },
   "outputs": [],
   "source": [
    "'''\n",
    "Plot Intensity as a function of source direction and beam number (2d plot)\n",
    "'''\n",
    "\n",
    "fig = plt.figure(figsize= (10,4))\n",
    "plt.imshow(out.T)\n",
    "plt.show()\n"
   ]
  },
  {
   "cell_type": "code",
   "execution_count": 50,
   "metadata": {
    "collapsed": false
   },
   "outputs": [
    {
     "name": "stdout",
     "output_type": "stream",
     "text": [
      "0.0008414656773568963\n",
      "0.038731603963115105\n"
     ]
    }
   ],
   "source": [
    "'''\n",
    "GPU BEAMFORMER VALIDATION\n",
    "\n",
    "This block compares the GPU implementation with the python implementation for a demonstration of correctness.\n",
    "The GPU code exports a file called data.py which is stored in bin/. This code reads in that file and compares\n",
    "it to the calculations made previously.\n",
    "\n",
    "Note that to be accurate, N_AVERAGING, N_BEAMS, N_FREQS, etc. have to be the same for both implementations.\n",
    "'''\n",
    "\n",
    "\n",
    "# import os, sys\n",
    "try:\n",
    "    import data\n",
    "except:\n",
    "    reload(data)\n",
    "da = np.array(data.A)\n",
    "\n",
    "vmx = max(np.max(data.A), np.max(out)) #determines scale\n",
    "\n",
    "#Plot GPU image\n",
    "ax = plt.subplot(131)\n",
    "ax.set_title(\"GPU\")\n",
    "ax.set_ylabel(\"Source Direction\")\n",
    "ax.set_xlabel(\"Beam Number\")\n",
    "\n",
    "#plot Python image\n",
    "ax2 = plt.subplot(132)\n",
    "ax2.set_title(\"Python\")\n",
    "ax2.set_xlabel(\"Beam Number\")\n",
    "# ax2.colorbar()\n",
    "\n",
    "#plot percent difference image\n",
    "ax3 = plt.subplot(133)\n",
    "ax3.set_title(\"Difference\")\n",
    "b = np.abs((out.T - da)/out.T)\n",
    "plt.suptitle(\"Beamformer Validation\")\n",
    "ax3.set_xlabel(\"Beam Number\")\n",
    "\n",
    "im = ax.imshow(da, vmin = 0, vmax = vmx)\n",
    "im2 = ax2.imshow(out.T, vmin = 0, vmax = vmx)\n",
    "im3 = ax3.imshow(b*100, vmin = 0, vmax = 1)\n",
    "\n",
    "fig.colorbar(im2, ax = ax2)\n",
    "fig.colorbar(im3, ax = ax3)\n",
    "\n",
    "plt.show()\n",
    "print(np.sqrt(np.sum(b**2)/(1024*256)))\n",
    "print(np.mean(b)*100)"
   ]
  },
  {
   "cell_type": "code",
   "execution_count": 32,
   "metadata": {
    "collapsed": false
   },
   "outputs": [],
   "source": [
    "'''\n",
    "Plot histograms of both images and errors\n",
    "'''\n",
    "\n",
    "ax = plt.subplot(121)\n",
    "ax2 = plt.subplot(122)\n",
    "_, bi, _ = ax.hist(x = np.log10(out.ravel()), bins=20, alpha = .7, log = True, label =  \"Python\")\n",
    "ax.hist(x = np.log10(da.ravel()), bins=bi, alpha = .7, log = True, label = \"GPU\")\n",
    "ax.set_title(\"Python vs GPU Image Histograms\")\n",
    "ax.set_xlabel(\"$\\log_{10}$(Pixel Intensity)\")\n",
    "ax.legend()\n",
    "\n",
    "ax2.hist(x = (b*100).ravel(), bins=20, alpha = .7, log = True)\n",
    "ax2.set_title(\"Errors\")\n",
    "ax2.set_xlabel(\"% error\")\n",
    "\n",
    "plt.suptitle(\"Comparison of Beamformer Results\")\n",
    "plt.show()"
   ]
  }
 ],
 "metadata": {
  "kernelspec": {
   "display_name": "Python 2",
   "language": "python",
   "name": "python2"
  },
  "language_info": {
   "codemirror_mode": {
    "name": "ipython",
    "version": 2
   },
   "file_extension": ".py",
   "mimetype": "text/x-python",
   "name": "python",
   "nbconvert_exporter": "python",
   "pygments_lexer": "ipython2",
   "version": "2.7.12"
  }
 },
 "nbformat": 4,
 "nbformat_minor": 2
}
