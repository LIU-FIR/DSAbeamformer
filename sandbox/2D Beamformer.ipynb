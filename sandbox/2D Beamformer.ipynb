{
 "cells": [
  {
   "cell_type": "markdown",
   "metadata": {},
   "source": [
    "# 2D Beamformer\n",
    "An exploration of 2d beamformer theory"
   ]
  },
  {
   "cell_type": "code",
   "execution_count": 1,
   "metadata": {},
   "outputs": [
    {
     "name": "stdout",
     "output_type": "stream",
     "text": [
      "Using Multiprocessing\n",
      "CWD = /mnt/f/Documents/Caltech/DSA/DSAbeamformer\n"
     ]
    }
   ],
   "source": [
    "# %matplotlib inline\n",
    "# import mpld3\n",
    "# mpld3.enable_notebook()\n",
    "\n",
    "import sys\n",
    "import os\n",
    "import numpy as np\n",
    "from time import time\n",
    "try:\n",
    "    from multiprocessing import Pool, RawArray\n",
    "    from contextlib import closing\n",
    "    import multiprocessing as mp\n",
    "    multiproc = 1\n",
    "    print(\"Using Multiprocessing\")\n",
    "except:\n",
    "    multiproc = 0\n",
    "    print(\"NO Multiprocessing\")\n",
    "\n",
    "cwd = os.path.abspath(\".\")\n",
    "if (\"sandbox\" in cwd):\n",
    "    os.chdir(os.path.abspath(\"..\"))\n",
    "    cwd = os.path.abspath(\".\")\n",
    "\n",
    "print (\"CWD = \" + cwd)\n",
    "sys.path.append(cwd + \"/bin\")\n",
    "\n",
    "\n",
    "# matplotlib.use('nbagg')\n",
    "import matplotlib.pyplot as plt"
   ]
  },
  {
   "cell_type": "markdown",
   "metadata": {},
   "source": [
    "### Create array containing positions of antennas\n",
    "\n",
    "Antennas can be distributed linearly, randomly, or a mix of both"
   ]
  },
  {
   "cell_type": "code",
   "execution_count": 2,
   "metadata": {},
   "outputs": [
    {
     "data": {
      "image/png": "[encoded data removed]",
      "text/plain": [
       "<matplotlib.figure.Figure at 0x7fb73a919390>"
      ]
     },
     "metadata": {},
     "output_type": "display_data"
    }
   ],
   "source": [
    "N = 64\n",
    "max_pos = 250\n",
    "Antenna_positions = 'Linear'\n",
    "\n",
    "pos = np.zeros((N,3))\n",
    "\n",
    "if Antenna_positions == 'Grid':\n",
    "    x = np.linspace(-max_pos,max_pos,int(np.floor(np.sqrt(N))))\n",
    "    y = np.linspace(-max_pos,max_pos,int(np.floor(np.sqrt(N))))\n",
    "\n",
    "    xv, yv = np.meshgrid(x,y)\n",
    "    pos[:,0] = xv.ravel()\n",
    "    pos[:,1] = yv.ravel()\n",
    "    pos[:,2] = 0\n",
    "elif Antenna_positions == 'Linear':\n",
    "    pos[:,0] = np.linspace(-max_pos,max_pos, N)\n",
    "    pos[:,1] = 0\n",
    "    pos[:,2] = 0 #np.random.uniform(size=(N)) - 1\n",
    "elif Antenna_positions == 'Random':\n",
    "    pos[:,0] = 2*max_pos*np.random.uniform(size=(N)) - max_pos\n",
    "    pos[:,1] = 2*max_pos*np.random.uniform(size=(N)) - max_pos\n",
    "    pos[:,2] = np.random.uniform(size=(N)) - 1\n",
    "elif Antenna_positions == 'Linear with Random':\n",
    "    pos = np.linspace(-max_pos,max_pos,N)\n",
    "    pos[0] = np.random.uniform(-max_pos,max_pos)\n",
    "    pos[1] = np.random.uniform(-max_pos,max_pos)\n",
    "    pos[2] = np.random.uniform(-max_pos,max_pos)\n",
    "\n",
    "fig = plt.figure(figsize= (10,4))\n",
    "\n",
    "ax = plt.subplot(121)\n",
    "ax2 = plt.subplot(122)\n",
    "ax.scatter(pos[:,0], pos[:,1])\n",
    "ax.set_xlim([-max_pos, max_pos])\n",
    "ax.set_ylim([-max_pos, max_pos])\n",
    "ax.set_xlabel(\"x\")\n",
    "ax.set_ylabel(\"y\")\n",
    "\n",
    "ax2.scatter(pos[:,0], pos[:,2])\n",
    "ax2.set_xlabel(\"x\")\n",
    "ax2.set_ylabel(\"z\")\n",
    "\n",
    "plt.show()"
   ]
  },
  {
   "cell_type": "markdown",
   "metadata": {},
   "source": [
    "### Create Fourier coefficient matrix"
   ]
  },
  {
   "cell_type": "code",
   "execution_count": 3,
   "metadata": {},
   "outputs": [
    {
     "name": "stdout",
     "output_type": "stream",
     "text": [
      "Running\n",
      "Make Array\n",
      "Starting\n",
      "Done\n",
      "total time: 8.95724511147\n"
     ]
    }
   ],
   "source": [
    "c = 299792458.0\n",
    "zero_pt = 0              # Can be used if the first few channels have been flagged\n",
    "gpu = 0                  # Determines the bandwidth in any gpu\n",
    "tot_channels = 2048\n",
    "n_gpus = 8               # Number of GPUs in system\n",
    "bw_per_channel = (1.53 - 1.28)/tot_channels\n",
    "N_BEAMS = 256\n",
    "N_FREQ = tot_channels / n_gpus\n",
    "\n",
    "\n",
    "field_of_view_half_angle = 3.5\n",
    "\n",
    "if Antenna_positions != \"Linear\":\n",
    "    ang = np.linspace(-field_of_view_half_angle*np.pi/180.0, field_of_view_half_angle*np.pi/180.0, int(np.sqrt(N_BEAMS))) #beam angles\n",
    "\n",
    "    T, P = np.meshgrid(ang, ang)\n",
    "\n",
    "    theta = T.ravel()\n",
    "    phi = P.ravel()\n",
    "else:\n",
    "    theta = np.linspace(-field_of_view_half_angle*np.pi/180.0, field_of_view_half_angle*np.pi/180.0, N_BEAMS) #beam angles\n",
    "    phi = np.zeros(len(theta))\n",
    "\n",
    "# print theta\n",
    "\n",
    "freq = [1.53 - (zero_pt + gpu * tot_channels/(n_gpus-1) + i)* bw_per_channel for i in range(N_FREQ)]\n",
    "\n",
    "form_beams_with_freq = range(256)\n",
    "n_freq = len(form_beams_with_freq)\n",
    "\n",
    "\n",
    "'''\n",
    "Calculate the fourier coefficients\n",
    "\n",
    "Note we use np.round so that each number is ~ an 8-bit integer\n",
    "'''\n",
    "\n",
    "def assign_fourier_coefficients(tup):\n",
    "    k, f = tup\n",
    "    wavelength = c/(freq[f]*1e9)\n",
    "    for i in range(N_BEAMS):\n",
    "        for j in range(N):\n",
    "            val = np.round(127.0*np.exp(-2.0j*np.pi*(pos[j,0]*np.sin(theta[i]) + pos[j,1]*np.sin(phi[i])) /wavelength))/127.0\n",
    "            arr[2*(k*N_BEAMS*N + i*N + j)] = np.real(val)\n",
    "            arr[2*(k*N_BEAMS*N + i*N + j)+1] = np.imag(val)\n",
    "#             print arr[2*(k*N_BEAMS*N + i*N + j)]\n",
    "\n",
    "print(\"Running\")\n",
    "\n",
    "if multiproc:\n",
    "    t = time()\n",
    "    print(\"Make Array\")\n",
    "    arr = RawArray('d', 2*n_freq * N_BEAMS * N)\n",
    "    print(\"Starting\")\n",
    "    pool = Pool()\n",
    "    pool.map(assign_fourier_coefficients, [(k, f) for k, f in enumerate(form_beams_with_freq)])\n",
    "    pool.close()\n",
    "    print(\"Done\")\n",
    "\n",
    "    a = np.frombuffer(arr, dtype=np.complex)\n",
    "    A = np.reshape(a, (n_freq, N_BEAMS, N))\n",
    "else:\n",
    "    t = time()\n",
    "    A = np.zeros((len(form_beams_with_freq), N_BEAMS, N), dtype=np.complex64) # Allocate space\n",
    "    for k, f in enumerate(form_beams_with_freq):\n",
    "        print(str(f) + \",\"),\n",
    "        wavelength = c/(freq[f]*1e9)     \n",
    "        for i in range(N_BEAMS):\n",
    "            for j in range(N):\n",
    "                A[k, i,j] = np.round(127.0*np.exp(-2.0j*np.pi*(pos[j,0]*np.sin(theta[i]) + pos[j,1]*np.sin(phi[i])) /wavelength))/127.0\n",
    "\n",
    "print(\"total time: \" + str(time()-t))"
   ]
  },
  {
   "cell_type": "code",
   "execution_count": 4,
   "metadata": {},
   "outputs": [
    {
     "data": {
      "text/plain": [
       "(13295.149606299225+0j)"
      ]
     },
     "execution_count": 4,
     "metadata": {},
     "output_type": "execute_result"
    }
   ],
   "source": [
    "np.sum(A)"
   ]
  },
  {
   "cell_type": "markdown",
   "metadata": {},
   "source": [
    "### Generate the test signals"
   ]
  },
  {
   "cell_type": "code",
   "execution_count": 5,
   "metadata": {},
   "outputs": [
    {
     "name": "stdout",
     "output_type": "stream",
     "text": [
      "2d_pydata_na_1_eval_1024_N_64_Linear\n",
      "Loading from Memory: 2d_pydata_na_1_eval_1024_N_64_Linear\n"
     ]
    }
   ],
   "source": [
    "if Antenna_positions == \"Linear\":\n",
    "    eval_pts = 1024 #number of test signals\n",
    "    angles = np.linspace(-field_of_view_half_angle*np.pi/180.0, field_of_view_half_angle*np.pi/180.0, eval_pts)\n",
    "    T_angles = angles\n",
    "    P_angles = np.zeros(eval_pts)\n",
    "else:\n",
    "    eval_pts = 3721 #number of test signals\n",
    "    angles = np.linspace(-field_of_view_half_angle*np.pi/180.0, field_of_view_half_angle*np.pi/180.0, int(np.sqrt(eval_pts)))\n",
    "    t, p = np.meshgrid(angles,angles)    \n",
    "    T_angles = t.ravel()\n",
    "    P_angles = p.ravel()\n",
    "    \n",
    "N_AVERAGING = 1\n",
    "file_name = \"2d_pydata_na_%d_eval_%d_N_%d_%s\"% (N_AVERAGING, eval_pts, N, Antenna_positions)\n",
    "print(file_name)\n",
    "\n",
    "n_angles = len(T_angles)\n",
    "\n",
    "def generate_signal(angle):\n",
    "    print(str(angle) + \", \"),\n",
    "    for k, f in enumerate(form_beams_with_freq):\n",
    "        wavelength = c/(freq[f]*1e9)\n",
    "        signal = [np.round(7*np.exp(2*np.pi*1j*(pos[i,0]*np.sin(T_angles[angle]) + pos[i,1]*np.sin(P_angles[angle]))/wavelength)) for i in range(N)]\n",
    "        out_arr[angle*N_BEAMS:(angle+1)*N_BEAMS] += 2*N_AVERAGING*np.abs(np.dot(A[k,:,:], signal))**2\n",
    "\n",
    "        \n",
    "try:\n",
    "#     throw(\"error\")\n",
    "    out = np.load(\"bin/\" + file_name + \".npy\")\n",
    "    print(\"Loading from Memory: \" + file_name)\n",
    "except:\n",
    "    out = np.zeros((N_BEAMS, eval_pts))\n",
    "\n",
    "    '''\n",
    "    Note we use np.round so that each number is ~ an 4-bit integer\n",
    "\n",
    "    This loop can take a while to calculate\n",
    "    '''\n",
    "    if multiproc:\n",
    "        t = time()\n",
    "        out_arr = RawArray('d', N_BEAMS*n_angles)\n",
    "        pool = Pool()\n",
    "        pool.map(generate_signal, range(n_angles))\n",
    "        pool.close()\n",
    "        \n",
    "        a = np.frombuffer(out_arr, dtype=np.complex)\n",
    "        out = np.reshape(a, (n_angles, N_BEAMS))\n",
    "    else:\n",
    "        t = time()\n",
    "        for k, f in enumerate(form_beams_with_freq):\n",
    "            print(str(k) + \",\"),\n",
    "            wavelength = c/(freq[f]*1e9)\n",
    "            for jj in range(n_angles):\n",
    "                signal = [np.round(7*np.exp(2*np.pi*1j*(pos[i,0]*np.sin(T_angles[jj]) + pos[i,1]*np.sin(P_angles[jj]))/wavelength)) for i in range(N)]\n",
    "                out[:,jj] += 2*N_AVERAGING*np.abs(np.dot(A[k,:,:], signal))**2\n",
    "\n",
    "            \n",
    "                \n",
    "    print(\"Time = {}\".format(time()-t))\n",
    "    np.save(\"bin/\" + file_name, out)\n",
    "    print(\"\\nSaving to Memory: \" + file_name)"
   ]
  },
  {
   "cell_type": "markdown",
   "metadata": {},
   "source": [
    "#### Plot beams patterns over top of eachother"
   ]
  },
  {
   "cell_type": "code",
   "execution_count": null,
   "metadata": {
    "scrolled": true
   },
   "outputs": [],
   "source": [
    "# mpld3.disable_notebook()\n",
    "%matplotlib tk\n",
    "\n",
    "'''\n",
    "Change \"eval_pts\" if more resolution is desired\n",
    "'''\n",
    "\n",
    "fig = plt.figure(figsize=(10,4))\n",
    "fig.suptitle(Antenna_positions + \" Locations\")\n",
    "ax = plt.subplot(121,projection='polar')\n",
    "ax2 = plt.subplot(122)\n",
    "\n",
    "for jj in range(256):\n",
    "    ax.plot(angles, np.real(out[jj]))\n",
    "    ax2.plot(angles*180/np.pi, np.real(out[jj]))\n",
    "    \n",
    "ax2.axis([-3.6, -3.4, -100, 2.0*max(out[0])])\n",
    "ax2.set_xlabel(\"Angle [deg]\")\n",
    "ax2.set_ylabel(\"Response Amplitude\")\n",
    "\n",
    "plt.show()\n",
    "# mpld3.enable_notebook()"
   ]
  },
  {
   "cell_type": "markdown",
   "metadata": {},
   "source": [
    "#### Plot Fourier coefficient matricies for 4 frequencies"
   ]
  },
  {
   "cell_type": "code",
   "execution_count": null,
   "metadata": {},
   "outputs": [],
   "source": [
    "fig = plt.figure(figsize= (8,4))\n",
    "tr = 141\n",
    "for k in range(4):\n",
    "    ax = plt.subplot(tr)\n",
    "    tr+=1\n",
    "    ax.imshow(np.real(A[k]))\n",
    "    if (k == 0):\n",
    "        ax.set_ylabel(\"Beam number\")\n",
    "        ax.set_xlabel(\"antennas\")\n",
    "    ax.set_title(\"Freq = {0:.4g}\".format(freq[form_beams_with_freq[k]]))\n",
    "\n",
    "\n",
    "plt.show()"
   ]
  },
  {
   "cell_type": "code",
   "execution_count": 12,
   "metadata": {},
   "outputs": [],
   "source": [
    "'''\n",
    "Plot Intensity as a function of source direction and beam number (2d plot)\n",
    "'''\n",
    "%matplotlib tk\n",
    "fig = plt.figure(figsize= (10,4))\n",
    "plt.imshow(da)\n",
    "plt.show()"
   ]
  },
  {
   "cell_type": "code",
   "execution_count": null,
   "metadata": {},
   "outputs": [],
   "source": [
    "%matplotlib tk\n",
    "fig = plt.figure(figsize= (10,4))\n",
    "plt.imshow(out.T)\n",
    "plt.show()"
   ]
  },
  {
   "cell_type": "code",
   "execution_count": null,
   "metadata": {},
   "outputs": [],
   "source": [
    "plt.scatter(T_angles, P_angles, label = \"Source Locations\")\n",
    "plt.scatter(theta, phi, label = \"Beam Locations\")\n",
    "plt.legend()\n",
    "plt.show()"
   ]
  },
  {
   "cell_type": "markdown",
   "metadata": {},
   "source": [
    "## GPU Validation\n",
    "\n",
    "This block compares the GPU implementation with the python implementation for a demonstration of correctness.\n",
    "The GPU code exports a file called data.py which is stored in bin/. This code reads in that file and compares\n",
    "it to the calculations made previously.\n",
    "\n",
    "Note that to be accurate, N_AVERAGING, N_BEAMS, N_FREQS, etc. have to be the same for both implementations."
   ]
  },
  {
   "cell_type": "code",
   "execution_count": 10,
   "metadata": {},
   "outputs": [
    {
     "name": "stdout",
     "output_type": "stream",
     "text": [
      "reloading the data\n",
      "Size = 1024\n"
     ]
    },
    {
     "data": {
      "image/png": "[encoded data removed]",
      "text/plain": [
       "<matplotlib.figure.Figure at 0x7fb72cf49c90>"
      ]
     },
     "metadata": {},
     "output_type": "display_data"
    },
    {
     "name": "stdout",
     "output_type": "stream",
     "text": [
      "286.1324155318118\n",
      "4974.459115720452\n"
     ]
    }
   ],
   "source": [
    "# import os, sys\n",
    "# print sys.path\n",
    "try:\n",
    "    reload(data)\n",
    "    print(\"reloading the data\")\n",
    "except:\n",
    "    import data\n",
    "    print(\"importing the data\")\n",
    "\n",
    "print(\"Size = {}\".format(len(data.A)))\n",
    "da = np.array(data.A)\n",
    "\n",
    "vmx = max(np.max(da), np.max(out)) #determines scale\n",
    "\n",
    "#Plot GPU image\n",
    "ax = plt.subplot(131)\n",
    "ax.set_title(\"GPU\")\n",
    "ax.set_ylabel(\"Source Direction\")\n",
    "ax.set_xlabel(\"Beam Number\")\n",
    "\n",
    "#plot Python image\n",
    "ax2 = plt.subplot(132)\n",
    "ax2.set_title(\"Python\")\n",
    "ax2.set_xlabel(\"Beam Number\")\n",
    "# ax2.colorbar()\n",
    "\n",
    "#plot percent difference image\n",
    "ax3 = plt.subplot(133)\n",
    "ax3.set_title(\"Difference\")\n",
    "b = np.abs((out.T - da)/out.T)\n",
    "plt.suptitle(\"Beamformer Validation\")\n",
    "ax3.set_xlabel(\"Beam Number\")\n",
    "\n",
    "im = ax.imshow(da, vmin = 0, vmax = vmx, aspect = 'auto')\n",
    "im2 = ax2.imshow(out.T, vmin = 0, vmax = vmx, aspect = 'auto')\n",
    "im3 = ax3.imshow(b*100, vmin = 0, vmax = 1, aspect = 'auto')\n",
    "\n",
    "fig.colorbar(im2, ax = ax2)\n",
    "fig.colorbar(im3, ax = ax3)\n",
    "\n",
    "plt.show()\n",
    "print(np.sqrt(np.sum(b**2)/(1024*256)))\n",
    "print(np.mean(b)*100)"
   ]
  },
  {
   "cell_type": "markdown",
   "metadata": {},
   "source": [
    "## Histograms\n",
    "\n",
    "Plot histograms of both images and errors"
   ]
  },
  {
   "cell_type": "code",
   "execution_count": 9,
   "metadata": {},
   "outputs": [
    {
     "data": {
      "image/png": "[encoded data removed]",
      "text/plain": [
       "<matplotlib.figure.Figure at 0x7fb72c8b38d0>"
      ]
     },
     "metadata": {},
     "output_type": "display_data"
    }
   ],
   "source": [
    "ax = plt.subplot(121)\n",
    "ax2 = plt.subplot(122)\n",
    "_, bi, _ = ax.hist(x = np.log10(out.ravel()), bins=20, alpha = .7, log = True, label =  \"Python\")\n",
    "ax.hist(x = np.log10(da.ravel()), bins=bi, alpha = .7, log = True, label = \"GPU\")\n",
    "ax.set_title(\"Python vs GPU Image Histograms\")\n",
    "ax.set_xlabel(\"$\\log_{10}$(Pixel Intensity)\")\n",
    "ax.legend()\n",
    "\n",
    "ax2.hist(x = (b*100).ravel(), bins=20, alpha = .7, log = True)\n",
    "ax2.set_title(\"Errors\")\n",
    "ax2.set_xlabel(\"% error\")\n",
    "\n",
    "plt.suptitle(\"Comparison of Beamformer Results\")\n",
    "plt.show()"
   ]
  },
  {
   "cell_type": "code",
   "execution_count": null,
   "metadata": {},
   "outputs": [],
   "source": []
  }
 ],
 "metadata": {
  "kernelspec": {
   "display_name": "Python 2",
   "language": "python",
   "name": "python2"
  },
  "language_info": {
   "codemirror_mode": {
    "name": "ipython",
    "version": 2
   },
   "file_extension": ".py",
   "mimetype": "text/x-python",
   "name": "python",
   "nbconvert_exporter": "python",
   "pygments_lexer": "ipython2",
   "version": "2.7.14"
  }
 },
 "nbformat": 4,
 "nbformat_minor": 2
}
